{
 "cells": [
  {
   "cell_type": "markdown",
   "metadata": {},
   "source": [
    "# Vérification de l'ordre 1 d'une loi de vitesse"
   ]
  },
  {
   "cell_type": "markdown",
   "metadata": {
    "raw_mimetype": "text/restructuredtext"
   },
   "source": [
    "<div class = 'alert alert-info'>\n",
    "Pour exécuter le code écrit dans un bloc : <b>MAJ-ENTREE </b><br>\n",
    "    Pour recommencer depuis le début : Menu <b>Kernel / Restart and clear output </b><br>\n",
    "    Toujours exécuter dans l'ordre le code  écrit dans les blocs précédés de la mention <b>Entrée  [  ]</b>\n",
    "</div>"
   ]
  },
  {
   "cell_type": "markdown",
   "metadata": {},
   "source": [
    "<div class = 'alert alert-warning'>Importation des modules de calcul et de tracé de courbe.\n",
    "    </div>"
   ]
  },
  {
   "cell_type": "code",
   "execution_count": null,
   "metadata": {},
   "outputs": [],
   "source": [
    "import matplotlib.pyplot as plt\n",
    "%matplotlib inline\n",
    "import numpy as np\n",
    "import scipy.stats as sc"
   ]
  },
  {
   "cell_type": "markdown",
   "metadata": {},
   "source": [
    "# 1. Données"
   ]
  },
  {
   "cell_type": "markdown",
   "metadata": {},
   "source": [
    "| Temps en s  | Concentration C en saccharose en mol/L   | \n",
    "| :--------------- |:---------------:| \n",
    "| 0   |   5.00     | \n",
    "| 50  | 4.52       |   \n",
    "| 100  | 4.08       | \n",
    "| 150   |   3.68    | \n",
    "| 200  | 3.33              |   \n",
    "| 250  | 3.00       | \n",
    "| 300  |  2.71       |   \n",
    "| 350  |2.45      | \n",
    "| 400   |  2.21   | \n",
    "| 450  | 2.00             |   \n",
    "| 500  | 1.81      | "
   ]
  },
  {
   "cell_type": "code",
   "execution_count": null,
   "metadata": {},
   "outputs": [],
   "source": [
    "t = np.array([0, 50, 100, 150, 200, 250, 300, 350, 400, 450, 500 ])  # liste des temps en s\n",
    "c = np.array([5.00, 4.52, 4.08, 3.68, 3.33, 3.00, 2.71, 2.45, 2.21, 2.00, 1.81 ])  # liste des concentrations en saccharose en mol/L A COMPLETER\n",
    "plt.figure(figsize=(12,8))\n",
    "plt.plot(t,c,\"o\",markersize=5)\n",
    "plt.xlabel(\" temps en s \")\n",
    "plt.ylabel(\"concentration en saccharose en mol/L\")\n",
    "plt.grid()  # crée une grille sur le graphique #\n",
    "plt.show ()  # fait afficher le graphe #"
   ]
  },
  {
   "cell_type": "markdown",
   "metadata": {},
   "source": [
    "# 2. Calculs des vitesses volumiques de disparition."
   ]
  },
  {
   "cell_type": "code",
   "execution_count": null,
   "metadata": {},
   "outputs": [],
   "source": [
    "n = len(t)                     # n est le nombre d'éléments de la liste t\n",
    "v= np.array([])\n",
    "v = np.zeros(n-1)           # créations de tableau \"numpy\" contenant ne contenant que des zéros et de taille n-1\n",
    "i= 0             # initialisation de la valeur du rang i\n",
    "for i in range (0,n-1):\n",
    "    v[i] = -(c[i+1]-c[i])/(t[i+1]-t[i])\n",
    "    print(v)"
   ]
  },
  {
   "cell_type": "markdown",
   "metadata": {},
   "source": [
    "# 3. Méthode différentielle pour vérifier l'ordre 1."
   ]
  },
  {
   "cell_type": "markdown",
   "metadata": {},
   "source": [
    "<div class = 'alert alert-warning'>\n",
    "Compléter les lignes manquantes dans le code ci-dessous.<br>\n",
    "    </div>"
   ]
  },
  {
   "cell_type": "code",
   "execution_count": null,
   "metadata": {},
   "outputs": [],
   "source": [
    "def modelisation(x,y):\n",
    "    modele=np.polyfit(x,y,1)\n",
    "    equation=(\"v = \"+format(modele[0],\".2E\")+\".c\")\n",
    "    plt.plot(x,modele[0]*x+modele[1],color='red',label=equation)\n",
    "    plt.legend()\n",
    "    \n",
    "indexe = [10]\n",
    "modifiedc= np.delete(c, indexe)\n",
    "\n",
    "modelisation(modifiedc,v)\n",
    "\n",
    "plt.xlim(0,5)\n",
    "plt.ylim(0,0.010)\n",
    "plt.xlabel(\"c (mol/L)\")\n",
    "plt.ylabel(\"v (mol/L/s)\")\n",
    "plt.scatter(modifiedc,v,marker='+',s=100)\n",
    "plt.grid()\n",
    "plt.show()"
   ]
  },
  {
   "cell_type": "markdown",
   "metadata": {},
   "source": [
    "<div class = 'alert alert-warning'>\n",
    "Imprimer la courbe ci-dessus\n",
    "    </div>"
   ]
  },
  {
   "cell_type": "markdown",
   "metadata": {},
   "source": [
    "## C'est fini\n",
    "Il ne reste plus qu'à télécharger le fichier !"
   ]
  },
  {
   "cell_type": "markdown",
   "metadata": {},
   "source": [
    "<div class = 'alert alert-success'><h4>La commande suivante imprime toutes les lignes de code exécutées depuis la dernière initialisation de la page (Restart and Clear Output) <br><br>Cela permet de les copier dans Spyder ou dans un fichier .text par exemple.</h4></div>"
   ]
  },
  {
   "cell_type": "code",
   "execution_count": null,
   "metadata": {},
   "outputs": [],
   "source": [
    "%history"
   ]
  }
 ],
 "metadata": {
  "kernelspec": {
   "display_name": "Python 3",
   "language": "python",
   "name": "python3"
  },
  "language_info": {
   "codemirror_mode": {
    "name": "ipython",
    "version": 3
   },
   "file_extension": ".py",
   "mimetype": "text/x-python",
   "name": "python",
   "nbconvert_exporter": "python",
   "pygments_lexer": "ipython3",
   "version": "3.8.3"
  }
 },
 "nbformat": 4,
 "nbformat_minor": 4
}
