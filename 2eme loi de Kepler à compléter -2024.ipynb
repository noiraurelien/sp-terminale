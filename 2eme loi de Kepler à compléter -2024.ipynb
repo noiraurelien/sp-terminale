{
 "cells": [
  {
   "cell_type": "markdown",
   "metadata": {},
   "source": [
    "# Vérification de la 2ème loi de Kepler"
   ]
  },
  {
   "cell_type": "markdown",
   "metadata": {},
   "source": [
    "<div class = 'alert alert-info'>\n",
    "Pour exécuter le code écrit dans un bloc : <b>MAJ-ENTREE </b><br>\n",
    "    Pour recommencer depuis le début : Menu <b>Kernel / Restart and clear output </b><br>\n",
    "    Toujours exécuter dans l'ordre le code  écrit dans les blocs précédés de la mention <b>Entrée  [  ]</b>\n",
    "</div>"
   ]
  },
  {
   "cell_type": "markdown",
   "metadata": {},
   "source": [
    "<div class = 'alert alert-warning'>Importation des modules de calcul et de tracé de courbe.\n",
    "    </div>"
   ]
  },
  {
   "cell_type": "code",
   "execution_count": null,
   "metadata": {},
   "outputs": [],
   "source": [
    "import math \n",
    "import numpy as np\n",
    "import matplotlib.pylab as plt"
   ]
  },
  {
   "cell_type": "markdown",
   "metadata": {},
   "source": [
    "<div class = 'alert alert-warning'><h3>Constantes</h3><br>\n",
    "   "
   ]
  },
  {
   "cell_type": "code",
   "execution_count": null,
   "metadata": {},
   "outputs": [],
   "source": [
    "pi = math.pi #valeur de pi"
   ]
  },
  {
   "cell_type": "markdown",
   "metadata": {},
   "source": [
    "<div class = 'alert alert-warning'>\n",
    "    <H3>Données astronomiques</H3><br>\n",
    "    <code class = \"python\">t</code> est la date en jour<br>\n",
    "    <code class = \"python\">SH</code> est la distance Soleil - Comète de Halley donnée en unités astronomiques.  L'unité astronomique <b>u.a.</b> est une unité de distance correspondant à la distance moyenne Terre-Soleil soit environ 150 millions de km.<br>\n",
    "    <code class = \"python\">angle_degré</code> est l'angle entre un axe (Ox) passant par les 2 foyers de l'ellipse et le segment reliant le centre O du Soleil et la comète.\n",
    "    </div>"
   ]
  },
  {
   "cell_type": "code",
   "execution_count": null,
   "metadata": {},
   "outputs": [],
   "source": [
    "t = [0,3653,7305,9132,10958,11688,12419,12784,12965,13149,13331,13515,13605,13696,\n",
    "     13788,13802,13819,13833,13849,13863,13880,13884,13889,13894,13899,13904,13911,\n",
    "     13915,13920,13925,13930,13935,13939,13943,13948,13953,13958,13963,13970,13984,\n",
    "     14000,14031,14061,14123,14184,14245,14396,14457,14610,14792,14976,15341,16071,\n",
    "     16802,18628,20454,24107,27759]\n",
    "SH = [35.29,33.65,28.84,24.74,19.06,16.15,12.65,10.59,9.454,8.205,6.841,5.281,\n",
    "            4.423,3.461,2.346,2.159,1.924,1.732,1.486,1.272,1.01,0.949,0.8747,0.8035,\n",
    "            0.7373,0.679,0.6172,0.596,0.5871,0.5988,0.6294,0.6756,0.721,0.772,0.841,\n",
    "            0.9142,0.989,1.066,1.175,1.39,1.63,2.072,2.472,3.229,3.905,4.529,5.915,\n",
    "            6.427,7.621,8.909,10.101,12.222,15.795,18.77,24.533,28.695,33.7,35.284]\n",
    "angle_degre = [-179.9,-176.7,-172.9,-170.3,-166.2,-163.7,-159.9,-157.1,-155.2,-152.7,\n",
    "               -149.2,-143.9,-139.8,-133.5,-121.7,-118.7,-114.4,-109.9,-103.3,-95.5,\n",
    "               -81.46,-77.03,-70.65,-63.11,-54.16,-43.55,-25.74,-14.18,1.04,16.18,30.31,\n",
    "               42.81,51.52,59.14,67.31,74.2,80.05,85.07,90.99,100.1,107.5,117.2,123.4,\n",
    "               131.6,136.7,140.4,146.3,148,151.3,154.1,156.3,159.4,163.4,165.9,170.1,172.8,176.8,180]"
   ]
  },
  {
   "cell_type": "markdown",
   "metadata": {},
   "source": [
    "<div class = 'alert alert-info'>\n",
    "<H3>Enoncé de la 2ème loi de Kepler.</H3><br>\n",
    "La deuxième loi de Kepler aussi appelée loi des aires s'énonce traditionnellement ainsi : <br>\n",
    "    <h4>\"Le segment reliant l'astre attracteur et son satellite balaie des aires égales pendant des durées égales\"</h4><br>\n",
    "    Il existe d'autres manières de l'énoncer :<br>\n",
    "    - L'aire A balayée par le segment astre-satellite est proportionnel à la durée.<br>\n",
    "    - La vitesse aérolaire définie par $ \\frac{dA}{dt}\\ $ est constante.\n",
    "</div>"
   ]
  },
  {
   "cell_type": "markdown",
   "metadata": {},
   "source": [
    "<div class = 'alert alert-warning'>\n",
    "    Pour calculer l'aire du triangle (OAB) on peut utiliser la formule suivant:<br>\n",
    "    $$\n",
    "    Aire(OAB) = \\frac{1}{2}\\times OA\\times OB\\times sin(\\vec{OA};\\vec{OB})\n",
    "    $$\n",
    "    <hr>\n",
    "    <i>Compléter les 3 lignes permettant : <br>\n",
    "        - de donnner les bornes de la boucle \"for ... in range\"\n",
    "        - de calculer l'aire (en u.a²) du <code class = \"python\">i</code>ème triangle formé des points O, H[i] et H[i +1]<br>\n",
    "        - de calculer la durée (en j) nécessaire pour balayer cette aire<br>\n",
    "    On utilisera la fonction <code class = \"python\">math.sin(...)</code> qui nécessite un angle en radian.</i><br>\n",
    "   <h4> On veillera à bien réfléchir à quoi correspond l'angle $(\\vec{OA};\\vec{OB})$dans la situation étudiée</h4></div>"
   ]
  },
  {
   "cell_type": "code",
   "execution_count": null,
   "metadata": {},
   "outputs": [],
   "source": [
    "angle_radian = [value*pi/180 for value in angle_degre]     # crée une nouvelle liste avec les angles convertis en radian\n",
    "\n",
    "n = len(t)                     # n est le nombre d'éléments de la liste t\n",
    "aire = np.zeros(n-1)           # créations de 2 tableaux contenant ne contenant que des zéros et de taille n-1\n",
    "duree = np.zeros(n-1)\n",
    "\n",
    "for i in range(0,n-1):           # A COMPLETER\n",
    "    aire[i] =                       # A COMPLETER\n",
    "    duree[i] =                      # A COMPLETER"
   ]
  },
  {
   "cell_type": "markdown",
   "metadata": {},
   "source": [
    "<div class = 'alert alert-warning'>\n",
    "  <H3>Représentation de l'aire en fonction de la durée du parcours</H3><br>  \n",
    "<i>Compléter les instructions <code class = \"python\">plt.plot(...)</code> ainsi que <code class = \"python\">plt.xlabel(...)</code> et <code class = \"python\">plt.ylabel(...)</code></i> permettant de représenter l'aire balayée par le segment SH en fonction de la durée du parcours.\n",
    "    </div>"
   ]
  },
  {
   "cell_type": "code",
   "execution_count": null,
   "metadata": {},
   "outputs": [],
   "source": [
    "plt.figure(figsize=(12,8))\n",
    "plt.plot(     ,      , \"+\")  # COMPLETER les DEUX PREMIERS ARGUMENTS de la fonction pour afficher l'aire en fonction de la durée de parcours\n",
    "plt.xlabel(\"  \")  # A COMPLETER\n",
    "plt.ylabel(\"  \")  # A COMPLETER\n",
    "(a, b, R2, _, uA ) = stats.linregress (duree, aire)  # Calcul des paramètres a et b avec modélisation affine type \"y = a.x + b\"\n",
    "aire_modele = a*duree    # Calcul des valeurs d'aire en utilisant le modèle\n",
    "plt.plot (duree, aire_modele , 'b+:') # trace la courbe de l'aire calculée par modélisation en fonction de la durée de parcours\n",
    "plt.show()\n",
    "print (\"Le coefficient directeur de la régression linéaire vaut :\", round(a,5)) # affiche le paramètre a du modèle arrondi"
   ]
  },
  {
   "cell_type": "markdown",
   "metadata": {},
   "source": [
    "C'est fini\n",
    "\n",
    "Il ne reste plus qu'à télécharger le fichier !\n"
   ]
  },
  {
   "cell_type": "markdown",
   "metadata": {},
   "source": [
    "<div class = 'alert alert-success'><h4>La commande suivante imprime toutes les lignes de code exécutées depuis la dernière initialisation de la page (Restart and Clear Output) <br><br>Cela permet de les copier dans Spyder ou dans un fichier .text par exemple.</h4></div>"
   ]
  },
  {
   "cell_type": "code",
   "execution_count": null,
   "metadata": {},
   "outputs": [],
   "source": [
    "%history"
   ]
  }
 ],
 "metadata": {
  "kernelspec": {
   "display_name": "Python 3",
   "language": "python",
   "name": "python3"
  },
  "language_info": {
   "codemirror_mode": {
    "name": "ipython",
    "version": 3
   },
   "file_extension": ".py",
   "mimetype": "text/x-python",
   "name": "python",
   "nbconvert_exporter": "python",
   "pygments_lexer": "ipython3",
   "version": "3.8.3"
  }
 },
 "nbformat": 4,
 "nbformat_minor": 4
}
