{
 "cells": [
  {
   "cell_type": "markdown",
   "metadata": {},
   "source": [
    "# Prévision des raies d'émission du spectre de l'atome de H"
   ]
  },
  {
   "cell_type": "markdown",
   "metadata": {
    "raw_mimetype": "text/restructuredtext"
   },
   "source": [
    "<div class = 'alert alert-info'>\n",
    "Pour exécuter le code écrit dans un bloc : <b>MAJ-ENTREE </b><br>\n",
    "    Pour recommencer depuis le début : Menu <b>Kernel / Restart and clear output </b><br>\n",
    "    Toujours exécuter dans l'ordre le code  écrit dans les blocs précédés de la mention <b>Entrée  [  ]</b>\n",
    "</div>"
   ]
  },
  {
   "cell_type": "markdown",
   "metadata": {},
   "source": [
    "<div class = 'alert alert-warning'>Importation des modules de calcul et de tracé de courbe.\n",
    "    </div>"
   ]
  },
  {
   "cell_type": "code",
   "execution_count": null,
   "metadata": {},
   "outputs": [],
   "source": [
    "import matplotlib.pyplot as plt\n",
    "%matplotlib inline\n",
    "import numpy as np"
   ]
  },
  {
   "cell_type": "markdown",
   "metadata": {},
   "source": [
    "# 1. Enoncé"
   ]
  },
  {
   "cell_type": "markdown",
   "metadata": {},
   "source": [
    "<div class = 'alert alert-warning'>\n",
    "En 1913, Niels Bohr reprend les travaux publiés en 1888 par le  physicien suèdois Johannes Rydberg pour élaborer son modèle de l'atome d'hydrogène à l'origine de la mécanique quantique. <br>\n",
    "Un des succès de son modèle est qu'il permet de retrouver la formule de Rydberg trouvée empiriquement par ce dernier : $${{\\frac {1}{\\lambda }}=R_{H}\\left({\\frac {1}{n_{1}^{2}}}-{\\frac {1}{n_{2}^{2}}}\\right)}$$<br>\n",
    "${\\lambda }$ : longueur d'onde émise en nm<br>\n",
    "$R_{H}$ : constante de Rydberg égale à 0,01097 $nm^{-1}$ pour l'atome de H<br>\n",
    "$n_{1}$ : nombre entier naturel associé au niveau d'énergie d'arrivée<br>\n",
    "$n_{2}$ : nombre entier naturel associé au niveau d'énergie de départ avec $n_{2}$ > $n_{1}$ <br>\n",
    "    </div>"
   ]
  },
  {
   "cell_type": "markdown",
   "metadata": {},
   "source": [
    "# 2. Programme."
   ]
  },
  {
   "cell_type": "markdown",
   "metadata": {},
   "source": [
    "<div class = 'alert alert-warning'>\n",
    "On souhaite ici prédire les raies d'émission de l'atome de H pour quelques transitions de $n_{2}$ vers $n_{1}$  en fixant $n_{1}$ = 2 et en faisant varier $n_{2}$ de 3 à 10. <br> \n",
    "On calculera ensuite les énergies des photons associés à ces longueurs d'onde. <br> \n",
    "On tracera enfin  :<br> \n",
    "    - le graphique représentant l'énergie du photon en fonction de la longueur d'onde d'émission pour l'atome de H. <br> \n",
    "    - une ébauche du spectre de l'atome de H selon le modèle de Bohr"
   ]
  },
  {
   "cell_type": "markdown",
   "metadata": {},
   "source": [
    "<div class = 'alert alert-warning'>\n",
    "Compléter les lignes et annotations manquantes dans le code ci-dessous.<br>\n",
    "    </div>"
   ]
  },
  {
   "cell_type": "code",
   "execution_count": null,
   "metadata": {},
   "outputs": [],
   "source": [
    "# entrée de la valeur de la constante de Rydberg\n",
    "\n",
    "Rh=\n",
    "\n",
    "# choix du nombre associé au niveau d'arrivée\n",
    "\n",
    "n1=\n",
    "\n",
    "#création des listes \n",
    "\n",
    "l=[]                      #création de liste pour les longueurs d'onde\n",
    "E=[]                      #création de liste pour les énergies\n",
    "\n",
    "# Calculs des longueurs d'onde émises et des énergies des photons émis\n",
    "\n",
    "for n2 in [       ] :           # pour n2 qui varie de 3 à 10\n",
    "    lamb=                      # ligne et annotation à compléter\n",
    "    E_photon=                  # ligne et annotation à compléter\n",
    "    l.append(lamb)             # annotation à compléter\n",
    "    E.append(E_photon)         # annotation à compléter\n",
    "print(l,E)    # affichage des valeurs\n",
    "\n",
    "# tracé de la courbe \n",
    "\n",
    "plt.figure (figsize = (10,8)) # taille du graphique\n",
    "plt.plot(   ,   ,marker=\"+\",label=\"$E_{photon}$=f($\\lambda$)\")            # ligne à compléter\n",
    "plt.xlabel(\"    \")     # ligne à compléter\n",
    "plt.ylabel(\"     \")     # ligne à compléter\n",
    "plt.legend()   # ecrit la légend du graphique\n",
    "plt.show()      # fait afficher le graphique\n",
    "\n",
    "# tracé d'une ébauche de spectre \n",
    "\n",
    "H=[] \n",
    "for n2 in [3,4,5,6,7,8,9,10] :                            \n",
    "    h=1               # valeur arbitraire\n",
    "    H.append(h)\n",
    "plt.figure (figsize = (10,8))\n",
    "plt.bar(l,H, width = 1, color = 'red',label=\"partie du spectre de l'atome de H\")  # tracé d'un diagramme en baton\n",
    "plt.xlabel(\"longueur d'onde d'émission\") \n",
    "plt.legend()\n",
    "plt.show()"
   ]
  },
  {
   "cell_type": "markdown",
   "metadata": {},
   "source": [
    "<div class = 'alert alert-warning'>\n",
    "Imprimer la courbe ci-dessus\n",
    "    </div>"
   ]
  },
  {
   "cell_type": "markdown",
   "metadata": {},
   "source": [
    "## C'est fini\n",
    "Il ne reste plus qu'à télécharger le fichier !"
   ]
  },
  {
   "cell_type": "markdown",
   "metadata": {},
   "source": [
    "<div class = 'alert alert-success'><h4>La commande suivante imprime toutes les lignes de code exécutées depuis la dernière initialisation de la page (Restart and Clear Output) <br><br>Cela permet de les copier dans Spyder ou dans un fichier .text par exemple.</h4></div>"
   ]
  },
  {
   "cell_type": "code",
   "execution_count": null,
   "metadata": {},
   "outputs": [],
   "source": [
    "%history"
   ]
  }
 ],
 "metadata": {
  "kernelspec": {
   "display_name": "Python 3",
   "language": "python",
   "name": "python3"
  },
  "language_info": {
   "codemirror_mode": {
    "name": "ipython",
    "version": 3
   },
   "file_extension": ".py",
   "mimetype": "text/x-python",
   "name": "python",
   "nbconvert_exporter": "python",
   "pygments_lexer": "ipython3",
   "version": "3.7.8"
  }
 },
 "nbformat": 4,
 "nbformat_minor": 4
}
