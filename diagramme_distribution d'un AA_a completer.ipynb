{
 "cells": [
  {
   "cell_type": "markdown",
   "metadata": {},
   "source": [
    "# Diagramme de distribution d'un acide alpha-aminé"
   ]
  },
  {
   "cell_type": "markdown",
   "metadata": {
    "raw_mimetype": "text/restructuredtext"
   },
   "source": [
    "<div class = 'alert alert-info'>\n",
    "Pour exécuter le code écrit dans un bloc : <b>MAJ-ENTREE </b><br>\n",
    "    Pour recommencer depuis le début : Menu <b>Kernel / Restart and clear output </b><br>\n",
    "    Toujours exécuter dans l'ordre le code  écrit dans les blocs précédés de la mention <b>Entrée  [  ]</b>\n",
    "</div>"
   ]
  },
  {
   "cell_type": "markdown",
   "metadata": {},
   "source": [
    "<div class = 'alert alert-warning'>Importation des modules de calcul et de tracé de courbe.\n",
    "    </div>"
   ]
  },
  {
   "cell_type": "code",
   "execution_count": null,
   "metadata": {},
   "outputs": [],
   "source": [
    "import matplotlib.pyplot as plt\n",
    "%matplotlib inline\n",
    "import numpy as np"
   ]
  },
  {
   "cell_type": "markdown",
   "metadata": {},
   "source": [
    "## 1. Données"
   ]
  },
  {
   "cell_type": "markdown",
   "metadata": {},
   "source": [
    "<div class = 'alert alert-warning'>Entrer les valeurs de deux pKa de l'acide aminé, pKa1 étant associé au groupe carboxyle et pKa2 au groupe amino.\n",
    "    </div>"
   ]
  },
  {
   "cell_type": "code",
   "execution_count": null,
   "metadata": {},
   "outputs": [],
   "source": [
    "pKa1 =\n",
    "pKa2 ="
   ]
  },
  {
   "cell_type": "markdown",
   "metadata": {},
   "source": [
    "## 2. Calcul des proportions de AH<sub>2</sub><sup>+</sup>, AH<sup>+-</sup> et A<sup>-</sup> et tracé du diagramme de distribution"
   ]
  },
  {
   "cell_type": "markdown",
   "metadata": {},
   "source": [
    "<div class = 'alert alert-warning'>\n",
    "Pour simplifier, on note AH<sub>2</sub><sup>+</sup> , AH<sup>+-</sup> et A<sup>-</sup> les trois espèces présentes dans la solution.<br>\n",
    "On pourra noter C la concentration apportée.<hr>\n",
    "    a) Ecrire le lien entre C et les concentrations effectives [A<sup>-</sup>] + [AH<sup>+-</sup>],  [AH<sub>2</sub><sup>+</sup>]<br>\n",
    "    b) A partir des expressions des constantes d'acidité, exprimer le rapport [AH<sup>+-</sup>] / [AH<sub>2</sub><sup>+</sup>] ainsi que le rapport [A<sup>-</sup>] / [AH<sup>+-</sup>].<br>\n",
    "    d) En déduire que  : <br>\n",
    "       $$\n",
    "    \\frac{[A^{-}]}{[AH_2^+]} = 10^{2.pH-pKa_1-pKa_2}\n",
    "    $$<br>\n",
    "\n",
    "On définit la fraction de AH<sub>2</sub><sup>+</sup> dans le mélange par : $$ p(AH_2) = \\frac{[AH_2^+]}{C}$$<br>\n",
    "    e) Montrer alors que le fraction de forme AH<sub>2</sub><sup>+</sup> par s'exprime : \n",
    "     $$\n",
    "    p(AH_2) = \\frac{1}{1 +10^{pH-pKa_1} +10^{2.pH-pKa_1-pKa_2}}\n",
    "    $$<br>\n",
    "    f) Montrer de même que la fraction de forme zwitterionique AH<sup>+-</sup> s'exprime : \n",
    "     $$\n",
    "    p(AH) = \\frac{1}{1 +10^{pKa_1-pH} + 10^{pH-pKa_2}}\n",
    "    $$<br> <hr>\n",
    "Compléter les lignes de code permettant de calculer :<br>\n",
    "- les fractions notées ici P_AH2, P_AH et P_A de chacune des trois formes de l'acide aminé  <br>\n",
    "- de tracer les courbes de distribution représentant le pourcentage de chaque forme<br><br>\n",
    "La méthode <code class = \"python\">np.arange(min ,max ,pas )</code> crée un tableau \"numpy\" contenant les nombres compris entre <code class = \"python\">min</code> (inclus) et <code class = \"python\">max</code> (exclus). Le troisième argument <code class = \"python\">pas</code> est l'écart entre deux nombres consécutifs. \n",
    "</div>\n",
    " \n",
    "\n",
    "    "
   ]
  },
  {
   "cell_type": "code",
   "execution_count": null,
   "metadata": {},
   "outputs": [],
   "source": [
    "pH = np.arange(     ,    ,     )               # à compléter\n",
    "P_AH2 =                               # à compléter\n",
    "P_AH =                               # à compléter \n",
    "P_A =                                 # à compléter      \n",
    "\n",
    "#####   tracé du diagramme   ######################################################\n",
    "    \n",
    "plt.figure (figsize = (10,8))\n",
    "plt.plot(pH,P_AH2,\"r-\",label=\"AH2\")   \n",
    "plt.plot(pH,P_AH,\"b\",label=\"AH\")                             \n",
    "plt.plot(pH,P_A,\"g.\",label=\"A\")                       \n",
    "plt.xlabel(\"pH\")\n",
    "plt.ylabel(\"%\")\n",
    "plt.legend()\n",
    "plt.grid()\n",
    "plt.title (\"Diagramme de distribution d'un acide alpha-aminé\")\n",
    "plt.show\n",
    "    "
   ]
  },
  {
   "cell_type": "markdown",
   "metadata": {},
   "source": [
    "## C'est fini\n",
    "Il ne reste plus qu'à télécharger le fichier !"
   ]
  },
  {
   "cell_type": "markdown",
   "metadata": {},
   "source": [
    "<div class = 'alert alert-success'><h4>La commande suivante imprime toutes les lignes de code exécutées depuis la dernière initialisation de la page (Restart and Clear Output) <br><br>Cela permet de les copier dans Spyder ou dans un fichier .text par exemple.</h4></div>"
   ]
  },
  {
   "cell_type": "code",
   "execution_count": null,
   "metadata": {},
   "outputs": [],
   "source": [
    "%history"
   ]
  }
 ],
 "metadata": {
  "kernelspec": {
   "display_name": "Python 3",
   "language": "python",
   "name": "python3"
  },
  "language_info": {
   "codemirror_mode": {
    "name": "ipython",
    "version": 3
   },
   "file_extension": ".py",
   "mimetype": "text/x-python",
   "name": "python",
   "nbconvert_exporter": "python",
   "pygments_lexer": "ipython3",
   "version": "3.8.3"
  }
 },
 "nbformat": 4,
 "nbformat_minor": 4
}
