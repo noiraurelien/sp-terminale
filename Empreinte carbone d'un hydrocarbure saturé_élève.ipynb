{
 "cells": [
  {
   "cell_type": "markdown",
   "metadata": {},
   "source": [
    "# Prévision de l'empreinte carbone d'un combustible carboné lors de sa combustion."
   ]
  },
  {
   "cell_type": "markdown",
   "metadata": {
    "raw_mimetype": "text/restructuredtext"
   },
   "source": [
    "<div class = 'alert alert-info'>\n",
    "Pour exécuter le code écrit dans un bloc : <b>MAJ-ENTREE </b><br>\n",
    "    Pour recommencer depuis le début : Menu <b>Kernel / Restart and clear output </b><br>\n",
    "    Toujours exécuter dans l'ordre le code  écrit dans les blocs précédés de la mention <b>Entrée  [  ]</b>\n",
    "</div>"
   ]
  },
  {
   "cell_type": "markdown",
   "metadata": {},
   "source": [
    "<div class = 'alert alert-warning'>Importation des modules de calcul et de tracé de courbe.\n",
    "    </div>"
   ]
  },
  {
   "cell_type": "code",
   "execution_count": null,
   "metadata": {},
   "outputs": [],
   "source": [
    "import matplotlib.pyplot as plt\n",
    "%matplotlib inline\n",
    "import numpy as np"
   ]
  },
  {
   "cell_type": "markdown",
   "metadata": {},
   "source": [
    "# 1. Equation de réaction de combustion d'un alcane."
   ]
  },
  {
   "cell_type": "markdown",
   "metadata": {},
   "source": [
    "<div class = 'alert alert-warning'>\n",
    "On étudie la combustion d'un hydrocarbure saturé appelé aussi alcane).<br>\n",
    "a) Rappeler les noms officiels et formules brutes des 4 premiers alcanes. <br>\n",
    "b) Quelle est la formule générale brute d'un alcane ? On posera $n$ le nombre d'atomes de carbone.<br>\n",
    "c) Ecrire l'équation de réaction de combustion complète d'un alcane où les nombre stoechiométriques sont à exprimer en fonction de $n$ . On supposera cette réaction comme totale par la suite.<br>\n",
    "d) Choisir un combustible, relever son énergie massique de combustion et entrer les données en dessous.<br>\n",
    "    \n",
    "|   Combustible     |   Alcane modèle   |  Em (MJ/kg)     |\n",
    "|---    |:-:    |:-:    |\n",
    "|   Gaz naturel    |   méthane  |     50  |\n",
    "|   Essence   | octane      |   47    |\n",
    "|   Gasoil    |  cétane (en $C_{16})$     |  45     |\n",
    "| Paraffine   | pentocosane (en $C_{25})$      |    46  |\n",
    "    </div>"
   ]
  },
  {
   "cell_type": "code",
   "execution_count": null,
   "metadata": {},
   "outputs": [],
   "source": [
    "n =...                  # nombre d'atomes de carbone dans une molécule du combustible choisi\n",
    "Em = ...                 # énergie massique de combustion en MJ /kg"
   ]
  },
  {
   "cell_type": "markdown",
   "metadata": {},
   "source": [
    "# 2. Calcul de la masse de dioxyde de carbone émise."
   ]
  },
  {
   "cell_type": "markdown",
   "metadata": {},
   "source": [
    "<div class = 'alert alert-warning'>\n",
    "Compléter le programme ci-dessous (pointillés) pour prévoir la masse de $CO_2$ émise (en g) par MJ d'énergie thermique libérée par combustion.<br>\n",
    "    </div>"
   ]
  },
  {
   "cell_type": "code",
   "execution_count": null,
   "metadata": {},
   "outputs": [],
   "source": [
    "# calcul de la masse molaire du combustible\n",
    "\n",
    "M=....\n",
    "\n",
    "# calcul de la quantité de matière de combustible pour 1 MJ d'énergie thermique libérée lors de la combustion. \n",
    "\n",
    "n_alcane = .......\n",
    "\n",
    "# calcul de la quantité de matière de CO2 formée pour 1 MJ d'énergie thermique libérée lors de la combustion. \n",
    "\n",
    ".......\n",
    "\n",
    "# calcul de ........ \n",
    "\n",
    "........\n",
    "\n",
    "#écriture du résultat\n",
    "print(\"Pour le combustible de formule C\",n,\"H\",2*n+2, \", la masse de dioxyde de carbone émise est de \",..., \" g par MJ d'énergie thermique libérée\")"
   ]
  },
  {
   "cell_type": "markdown",
   "metadata": {},
   "source": [
    "## C'est fini\n",
    "Il ne reste plus qu'à télécharger le fichier !"
   ]
  },
  {
   "cell_type": "markdown",
   "metadata": {},
   "source": [
    "<div class = 'alert alert-success'><h4>La commande suivante imprime toutes les lignes de code exécutées depuis la dernière initialisation de la page (Restart and Clear Output) <br><br>Cela permet de les copier dans Spyder ou dans un fichier .text par exemple.</h4></div>"
   ]
  },
  {
   "cell_type": "code",
   "execution_count": null,
   "metadata": {},
   "outputs": [],
   "source": [
    "%history"
   ]
  }
 ],
 "metadata": {
  "kernelspec": {
   "display_name": "Python 3",
   "language": "python",
   "name": "python3"
  },
  "language_info": {
   "codemirror_mode": {
    "name": "ipython",
    "version": 3
   },
   "file_extension": ".py",
   "mimetype": "text/x-python",
   "name": "python",
   "nbconvert_exporter": "python",
   "pygments_lexer": "ipython3",
   "version": "3.8.3"
  }
 },
 "nbformat": 4,
 "nbformat_minor": 4
}
