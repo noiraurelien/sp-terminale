{
 "cells": [
  {
   "cell_type": "markdown",
   "metadata": {},
   "source": [
    "# Simulation d'une incertitude-type composée avec un tirage aléatoire."
   ]
  },
  {
   "cell_type": "markdown",
   "metadata": {},
   "source": [
    "<div class = 'alert alert-info'>\n",
    "Pour exécuter le code écrit dans un bloc : <b>MAJ-ENTREE </b><br>\n",
    "    Pour recommencer depuis le début : Menu <b>Kernel / Restart and clear output </b><br>\n",
    "    Toujours exécuter dans l'ordre le code  écrit dans les blocs précédés de la mention <b>Entrée  [  ]</b>\n",
    "</div>"
   ]
  },
  {
   "cell_type": "markdown",
   "metadata": {},
   "source": [
    "<div class = 'alert alert-warning'>Importation des modules de calcul et de tracé de courbe.\n",
    "    </div>"
   ]
  },
  {
   "cell_type": "code",
   "execution_count": null,
   "metadata": {},
   "outputs": [],
   "source": [
    "import random\n",
    "import numpy as np\n",
    "import matplotlib.pyplot as plt"
   ]
  },
  {
   "cell_type": "markdown",
   "metadata": {},
   "source": [
    "# 1. Données et calcul de la concentration visée."
   ]
  },
  {
   "cell_type": "markdown",
   "metadata": {},
   "source": [
    "<div class = 'alert alert-warning'>On désire obtenir 100 mL de solution diluée à partir d'une solution mère que l'on dilue 20 fois.<br>\n",
    "    La verrerie utilisée est de classe B\n",
    "    <hr>\n",
    "    Compléter les valeurs-cibles et l'incertitude-type pour chaque grandeur.\n",
    "   <br><br>\n",
    "    Attention aux unités <br>\n",
    "    - mL pour les volumes <br>\n",
    "    - mmol/L pour les concentrations\n",
    "    </div>"
   ]
  },
  {
   "cell_type": "code",
   "execution_count": null,
   "metadata": {},
   "outputs": [],
   "source": [
    "V_dilue =                   # Volume en mL\n",
    "u_V_dilue = \n",
    "V_preleve =                   # Volume en mL\n",
    "u_V_preleve = \n",
    "C_mere = 100                    # concentration apportée en mmol/L\n",
    "u_C_mere = 0.5\n",
    "\n",
    "nombre_mesures = 10"
   ]
  },
  {
   "cell_type": "markdown",
   "metadata": {},
   "source": [
    "<div class = 'alert alert-warning'>Compléter l'expression qui donne la valeur de concentration de la solution diluée en mmol/L.\n",
    "    </div>"
   ]
  },
  {
   "cell_type": "code",
   "execution_count": null,
   "metadata": {},
   "outputs": [],
   "source": [
    "C_dilue = \n",
    "\n",
    "print('Valeur-cible de la concentration de la solution diluée :' , '%.2f' % C_dilue, 'mmol/L')"
   ]
  },
  {
   "cell_type": "markdown",
   "metadata": {},
   "source": [
    "# 2. Calcul de l'incertitude composée à partir des incertitudes sur les données."
   ]
  },
  {
   "cell_type": "markdown",
   "metadata": {},
   "source": [
    "<div class = 'alert alert-info'>\n",
    "L'incertitude relative sur le résultat du calcul (concentration de la solution diluée) est donnée par l'expression.\n",
    "<br>\n",
    "\\begin{align}\n",
    "\\frac{u(C_{dilue})}{C_{dilue}}=\\sqrt{\\left ( \\frac{u(V_{mere})}{V_{mere}} \\right )^2+\\left ( \\frac{u(V_{dilue})}{V_{dilue}} \\right )^2+\\left ( \\frac{u(C_{mere})}{C_{mere}} \\right )^2}\n",
    "\\end{align}\n",
    "    <hr>\n",
    "    On peut en déduire une incertitude-type sur la moyenne des valeurs qui est donnée par : \n",
    "    \\begin{align}\n",
    "u(C_{dilue-type})=    \\frac{u(C_{dilue})}{\\sqrt{nombre\\, de\\, mesures}}\n",
    "\\end{align}\n",
    "     </div>\n",
    "    <div class = 'alert alert-warning'>\n",
    "    Compléter les lignes permettant de calculer l'incertitude absolue : <br>\n",
    "    \\begin{align}\n",
    "u(C_{dilue})\n",
    "\\end{align}\n",
    "    <br>\n",
    "    On effectuera le calcul en plusieurs étapes afin de limiter la longueur des lignes de code.<br>\n",
    "</div>"
   ]
  },
  {
   "cell_type": "code",
   "execution_count": null,
   "metadata": {},
   "outputs": [],
   "source": [
    "#\n",
    "#\n",
    "u_C_dilue = \n",
    "u_C_dilue_type = u_C_dilue/(nombre_mesures)**0.5\n",
    "\n",
    "################  Affichage des résultats #############################\n",
    "\n",
    "print('valeur cible = ',C_dilue, 'mmol/L')\n",
    "print('incertitude composée = ',u_C_dilue_type , 'mmol/L')"
   ]
  },
  {
   "cell_type": "markdown",
   "metadata": {},
   "source": [
    "# 3. Simulation d'une série de mesures."
   ]
  },
  {
   "cell_type": "markdown",
   "metadata": {},
   "source": [
    "<div class = 'alert alert-info'>\n",
    "Pour vérifier que notre estimation de l'incertitude-type est correcte, on simule un grand nombre de mesures qui suivent une loi normale pour chaque grandeur.<br>\n",
    "    On calcule ensuite la valeur-vraie de la concentration diluée pour chaque mesure.<br>\n",
    "    Puis on estime la moyenne de ces valeurs-vraies.\n",
    "</div>"
   ]
  },
  {
   "cell_type": "markdown",
   "metadata": {},
   "source": [
    "## 3.1. Fonction simulant une série de mesure."
   ]
  },
  {
   "cell_type": "markdown",
   "metadata": {},
   "source": [
    "<div class = 'alert alert-info'>\n",
    "La lecture de ce paragraphe n'est pas essentielle pour la compréhension de l'ensemble et peut être différée.\n",
    "</div>"
   ]
  },
  {
   "cell_type": "markdown",
   "metadata": {},
   "source": [
    "<div class = 'alert alert-warning'>\n",
    "La fonction ci-dessous permet de simuler une série de valeurs vraies. <br><br>\n",
    "    Pour cela elle reçoit comme arguments la valeur d'une grandeur, son incertitude et le nombre de mesures.<br>\n",
    "    La fonction renvoie alors un tableau contenant de mesures aléatoires qui suivent une loi normale dont la répartition a <br>\n",
    "    - pour moyenne, le premier argument <code class = \"python\">valeur</code> et <br>\n",
    "    - pour écart-type, le deuxième argument <code class = \"python\">incertitude</code>.<br><br>\n",
    "    Le nombre d'éléments du tableau est noté <code class = \"python\">nombre_mesures</code><br><br>\n",
    "    Chacune de ces mesures est une <b>valeur-vraie</b> que l'expérimentateur ne connaît pas puisqu'il vise la valeur-cible correspondant à la moyenne de la simulation (absence d'erreur systématique)\n",
    "    </div>"
   ]
  },
  {
   "cell_type": "code",
   "execution_count": null,
   "metadata": {},
   "outputs": [],
   "source": [
    "def mesures_normale (valeur,incertitude,nombres_mesures):\n",
    "    tableau_mesures = np.array([])                                       # création d'un tableau vide\n",
    "    for i in range (0,nombre_mesures):\n",
    "        nouvelle_mesure = random.gauss(valeur,incertitude)               # génère un nombre aléatoire en suivant une loi normale\n",
    "        tableau_mesures = np.append(tableau_mesures,nouvelle_mesure)     # ajoute le nombre dans le tableau\n",
    "    return tableau_mesures    "
   ]
  },
  {
   "cell_type": "markdown",
   "metadata": {},
   "source": [
    "## 3.2. Génération des mesures aléatoires."
   ]
  },
  {
   "cell_type": "markdown",
   "metadata": {},
   "source": [
    "<div class = 'alert alert-info'>\n",
    "La lecture de ce paragraphe n'est pas essentielle pour la compréhension de l'ensemble et peut être différée.\n",
    "</div>"
   ]
  },
  {
   "cell_type": "markdown",
   "metadata": {},
   "source": [
    "<div class = 'alert alert-warning'>\n",
    "    Appel de la fonction  <code class = \"python\"><b>mesures_normale</b></code> pour simuler les séries de mesures.<br>\n",
    "La fonction <code class = \"python\"><b>np.mean</b></code> renvoie la moyenne des valeurs vraies.<br></div>"
   ]
  },
  {
   "cell_type": "code",
   "execution_count": null,
   "metadata": {},
   "outputs": [],
   "source": [
    "tableau_C_mere = mesures_normale(C_mere,u_C_mere,nombre_mesures)\n",
    "moyenne_C_mere = np.mean(tableau_C_mere)\n",
    "\n",
    "tableau_V_dilue = mesures_normale(V_dilue,u_V_dilue,nombre_mesures)\n",
    "moyenne_V_dilue = np.mean(tableau_V_dilue)\n",
    "\n",
    "tableau_V_preleve = mesures_normale(V_preleve,u_V_preleve,nombre_mesures)\n",
    "moyenne_V_preleve = np.mean(tableau_V_preleve)"
   ]
  },
  {
   "cell_type": "markdown",
   "metadata": {},
   "source": [
    "# 4. Calcul du résultat pour chacune des mesures."
   ]
  },
  {
   "cell_type": "markdown",
   "metadata": {},
   "source": [
    "## 4.1. Valeurs vraies obtenues lors du tirage aléatoire des essais."
   ]
  },
  {
   "cell_type": "markdown",
   "metadata": {},
   "source": [
    "<div class = 'alert alert-warning'>\n",
    "Pour commencer, on affiche <b>les valeurs vraies</b> des premiers essais et la moyenne de ces valeurs.\n",
    "</div>"
   ]
  },
  {
   "cell_type": "code",
   "execution_count": null,
   "metadata": {},
   "outputs": [],
   "source": [
    "print(\"Essai N° - C solution mère - V prélevé - V après dilution\")\n",
    "for i in range (0, min(len(tableau_C_mere), 17)):\n",
    "    print(i+1,\"          \",'%.2f'% tableau_C_mere[i], \"            \",'%.2f'% tableau_V_preleve[i],\"            \",'%.2f'% tableau_V_dilue[i])\n",
    "\n",
    "print(\"moyennes des valeurs vraies\")\n",
    "print (\"           \",'%.2f'% moyenne_C_mere, \"            \",'%.2f'% moyenne_V_preleve,\"             \",'%.2f'% moyenne_V_dilue)"
   ]
  },
  {
   "cell_type": "markdown",
   "metadata": {},
   "source": [
    "## 4.2. Valeurs vraies de la concentration de la solution diluée."
   ]
  },
  {
   "cell_type": "markdown",
   "metadata": {},
   "source": [
    "<div class = 'alert alert-warning'>\n",
    "    Pour chacune des mesures simulées, on calcule la <b>valeur-vraie</b> de la concentration de la solution diluée.<br>\n",
    "Le calcul s'effectue directement avec les tableaux numpy. Le résultat est un tableau de valeurs dont on affiche les premières valeurs.\n",
    "</div>"
   ]
  },
  {
   "cell_type": "code",
   "execution_count": null,
   "metadata": {
    "scrolled": false
   },
   "outputs": [],
   "source": [
    "tableau_C_dilue_vraie = tableau_C_mere*tableau_V_preleve/tableau_V_dilue\n",
    "\n",
    "################  Affichage du tableau des valeurs vraies de la concentration de la solution diluée ########\n",
    "\n",
    "print(\"Essai N°       C solution diluée\")\n",
    "for i in range (0, min(len(tableau_C_mere), 17)):\n",
    "    print(i+1,\"            \",'%.2f'% tableau_C_dilue_vraie[i])"
   ]
  },
  {
   "cell_type": "markdown",
   "metadata": {},
   "source": [
    "## 4.3. Fonction permettant de tracer l'histogramme des mesures"
   ]
  },
  {
   "cell_type": "markdown",
   "metadata": {},
   "source": [
    "<div class = 'alert alert-warning'>\n",
    "    La fonction nommée <code class = \"python\">histogramme</code> reçoit pour argument un tableau de valeurs.<br>\n",
    "    Pour tracer un histogramme, il faut faire appel à la fonction <code class = \"python\">plt.hist(<b>arg_1</b>,bins=<b>arg_2</b>,range=(<b>arg_3</b>,<b>arg_4</b>))</code><br>\n",
    "    <code class = \"python\"><b>arg_1</b></code> est le tableau des mesures, ici un tableau de nombres 'numpy'.<br>\n",
    "    <code class = \"python\"><b>arg_2</b></code> est le nombre de classes.<br>\n",
    "    <code class = \"python\"><b>arg_3</b></code> est la valeur minimale de l'étendue représentée.<br>\n",
    "    <code class = \"python\"><b>arg_4</b></code> est la valeur maximale de l'étendue représentée.<br>\n",
    "    </div>"
   ]
  },
  {
   "cell_type": "code",
   "execution_count": null,
   "metadata": {},
   "outputs": [],
   "source": [
    "def graphe(tableau):\n",
    "    min_tab = tableau.min()\n",
    "    max_tab = tableau.max()\n",
    "    plt.hist(tableau,bins=31,range=(min_tab,max_tab))\n",
    "    plt.show"
   ]
  },
  {
   "cell_type": "markdown",
   "metadata": {},
   "source": [
    "<div class = 'alert alert-warning'>\n",
    "On calcule la moyenne des valeurs vraies de concentration.  <br>\n",
    "    <hr>\n",
    "    Compléter l'appel de la fonction <code class = \"python\"><b>graphe( )</b></code> qui permet de tracer l'histogramme des valeurs obtenues.\n",
    "     </div>"
   ]
  },
  {
   "cell_type": "code",
   "execution_count": null,
   "metadata": {},
   "outputs": [],
   "source": [
    "moyenne_C_dilue_vraie = np.mean(tableau_C_dilue_vraie)\n",
    "print('moyenne :', '%.3f' %  moyenne_C_dilue_vraie)\n",
    "\n",
    "graphe()                        # à compléter !"
   ]
  },
  {
   "cell_type": "markdown",
   "metadata": {},
   "source": [
    "# 5. Comparaison de la répartition des valeurs vraies et de l'incertitude-type estimée."
   ]
  },
  {
   "cell_type": "markdown",
   "metadata": {},
   "source": [
    "<div class = 'alert alert-info'>\n",
    "On compare la moyenne des valeurs-vraies avec la valeur-cible et son incertitude-type.\n",
    "     </div>"
   ]
  },
  {
   "cell_type": "code",
   "execution_count": null,
   "metadata": {
    "scrolled": true
   },
   "outputs": [],
   "source": [
    "print('valeur cible = ','%.4f'% C_dilue,'    incertitude-type composée = ','%.4f'% u_C_dilue_type)\n",
    "print('moyenne des valeurs vraies = ','%.4f'% moyenne_C_dilue_vraie)\n",
    "\n"
   ]
  },
  {
   "cell_type": "markdown",
   "metadata": {},
   "source": [
    "<div class = 'alert alert-warning'>\n",
    "    <h2>Questions</h2>\n",
    "    <h3>1. Valeurs vraies et valeurs cibles</h3>\n",
    "    <br>\n",
    "    a) Lors d'un essai particulier, l'expérimentateur connait-il les valeurs vraies de chacune des grandeurs ? <br>\n",
    "    b) Proposer plusieurs causes possibles qui expliquent l'écart constaté entre les valeurs vraies et les valeurs cibles.\n",
    "    <hr>\n",
    "    <h3>2. L'incertitude-type composée est-elle un bon indicateur de la dispersion des valeurs ? </h3>\n",
    "    <br>\n",
    "    Le nombre d'essais est 10 (effectif d'un groupe de TP)<br><br>\n",
    "    a) Exprimer le résultat avec son incertitude en conservant le bon nombre de chiffres significatifs :<br>\n",
    "        \\begin{align}\n",
    "    valeur\\,  cible\\, \\pm \\, incertitude \\, type\n",
    "    \\end{align}\n",
    "    <br>\n",
    "    b) Toutes les valeurs vraies sont-elles comprises dans l'intervalle ainsi défini ? <br>\n",
    "    c) La moyenne des valeurs-vraies est-elle en accord avec la valeur-cible ? <br><br>\n",
    "    Reprendre la simulation plusieurs fois en conservant le même nombre d'essais (<code class = \"python\">menu Cell / Run all</code>)<br>\n",
    "    d) L'accord est-il toujours bon ?<br>\n",
    "    e) Conclusion.\n",
    "    <hr>\n",
    "    <h3>3. Influence du nombre d'essais </h3>\n",
    "    <br>Augmenter le nombre d'essais à 100 (effectif d'un lycée)<br>\n",
    "    Reprendre la simulation.<br>\n",
    "    Augmenter le nombre d'essais à 1000, puis à 50000 (effectif correspondant à la France entière) et simuler les mesures.<br><br>\n",
    "    a) Quelle forme prend l'histogramme des valeurs-vraies ?<br>\n",
    "    b) Quelle hypothèse peut-on faire sur la loi de probabilité obtenue ?<br>\n",
    "    c) Comment évoluent les valeurs extrèmes lorsque le nombre d'essais augmente ?<br>\n",
    "    d) Comment évolue l'incertitude-type lorsque le nombre d'essais augmente ?<br>\n",
    "    e) L'accord est-il toujours bon ?\n",
    "     </div>"
   ]
  },
  {
   "cell_type": "markdown",
   "metadata": {
    "scrolled": false
   },
   "source": [
    "# C'est fini\n",
    "Il ne reste plus qu'à télécharger le fichier !"
   ]
  },
  {
   "cell_type": "markdown",
   "metadata": {},
   "source": [
    "<div class = 'alert alert-success'><h4>La commande suivante imprime toutes les lignes de code exécutées depuis la dernière initialisation de la page (Restart and Clear Output) <br><br>Cela permet de les copier dans Spyder ou dans un fichier .text par exemple.</h4></div>"
   ]
  },
  {
   "cell_type": "code",
   "execution_count": null,
   "metadata": {
    "scrolled": true
   },
   "outputs": [],
   "source": [
    "%history"
   ]
  }
 ],
 "metadata": {
  "kernelspec": {
   "display_name": "Python 3",
   "language": "python",
   "name": "python3"
  },
  "language_info": {
   "codemirror_mode": {
    "name": "ipython",
    "version": 3
   },
   "file_extension": ".py",
   "mimetype": "text/x-python",
   "name": "python",
   "nbconvert_exporter": "python",
   "pygments_lexer": "ipython3",
   "version": "3.7.10"
  }
 },
 "nbformat": 4,
 "nbformat_minor": 4
}
