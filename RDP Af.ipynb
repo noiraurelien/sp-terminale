{
 "cells": [
  {
   "cell_type": "markdown",
   "metadata": {},
   "source": [
    "# Calcul du pH et du taux d'avancement fin d'un acide faible dans l'eau"
   ]
  },
  {
   "cell_type": "markdown",
   "metadata": {
    "raw_mimetype": "text/restructuredtext"
   },
   "source": [
    "<div class = 'alert alert-info'>\n",
    "Pour exécuter le code écrit dans un bloc : <b>MAJ-ENTREE </b><br>\n",
    "    Pour recommencer depuis le début : Menu <b>Kernel / Restart and clear output </b><br>\n",
    "    Toujours exécuter dans l'ordre le code  écrit dans les blocs précédés de la mention <b>Entrée  [  ]</b>\n",
    "</div>"
   ]
  },
  {
   "cell_type": "markdown",
   "metadata": {},
   "source": [
    "<div class = 'alert alert-warning'>Importation des modules de calcul et de tracé de courbe.\n",
    "    </div>"
   ]
  },
  {
   "cell_type": "code",
   "execution_count": null,
   "metadata": {},
   "outputs": [],
   "source": [
    "import math\n",
    "import matplotlib.pyplot as plt\n",
    "%matplotlib inline\n",
    "import numpy as np"
   ]
  },
  {
   "cell_type": "markdown",
   "metadata": {},
   "source": [
    "## 1. Données"
   ]
  },
  {
   "cell_type": "markdown",
   "metadata": {},
   "source": [
    "Entrer la valeur du pKa de l'acide en solution"
   ]
  },
  {
   "cell_type": "code",
   "execution_count": null,
   "metadata": {},
   "outputs": [],
   "source": [
    "pKa = 3"
   ]
  },
  {
   "cell_type": "markdown",
   "metadata": {},
   "source": [
    "Entrer la concentration apportée ca (en mol/L) de l'acide faible"
   ]
  },
  {
   "cell_type": "code",
   "execution_count": null,
   "metadata": {},
   "outputs": [],
   "source": [
    "ca =0.01"
   ]
  },
  {
   "cell_type": "markdown",
   "metadata": {},
   "source": [
    "## 2. Calcul pH et du taux d'avancement final\n",
    "\n",
    "On négligera l'équilibre d'autoprotolyse de l'eau dans ce qui suit.  \n",
    "\n",
    "1) Ecrire l'expression de la constante d'acidité Ka   \n",
    "2) On pose h = [H<sub>3</sub>O<sup>+</sup>]<sub>f</sub>. A l'aide d'un bilan de matière, établir que h vérifie l'équation du second degré suivante : h² + Ka.h - Ka.c = 0  \n",
    "3) Montrer que le taux d'avancement final s'exprime ainsi : T<sub>f</sub> = 10<sup>-pH</sup> / c  \n",
    "\n",
    "\n",
    "Compléter alors les lignes manquantes ci-dessous"
   ]
  },
  {
   "cell_type": "code",
   "execution_count": null,
   "metadata": {},
   "outputs": [],
   "source": [
    "#####   calcul de la constante d'acidité à partir du pKa ######\n",
    "Ka = \n",
    "#####   coefficients du polynôme du second degré type a.x² + b.x + c  ######\n",
    "\n",
    "a =\n",
    "b =     \n",
    "c = \n",
    "\n",
    "#####   calcul du discriminant  ######\n",
    "delta=\n",
    "\n",
    "#####   calcul de la racine positive  ######\n",
    "h1= \n",
    "    \n",
    "#####   calcul du pH et du taux d'avancement final   ######################################################\n",
    "pH =- math.log10(h1)\n",
    "tau = "
   ]
  },
  {
   "cell_type": "markdown",
   "metadata": {},
   "source": [
    "## 3. Affichage du pH et du taux d'avancement final."
   ]
  },
  {
   "cell_type": "code",
   "execution_count": null,
   "metadata": {},
   "outputs": [],
   "source": [
    "print(\"Le pH est de\",round(pH,2))\n",
    "print(\"Le taux d'avancement final est de\",round(tau,5)*100,\"%\")"
   ]
  },
  {
   "cell_type": "markdown",
   "metadata": {},
   "source": [
    "## 4. Tracé de la courbe pertinente.\n",
    "\n",
    "Quelle courbe faudrait-il alors tracer pour pouvoir répondre à la problématique ?\n",
    "\n",
    "Compléter alors les lignes manquantes ci-dessous"
   ]
  },
  {
   "cell_type": "code",
   "execution_count": null,
   "metadata": {},
   "outputs": [],
   "source": [
    "ca=0\n",
    "pKa = \n",
    "Ka = \n",
    "pHcal=[]\n",
    "conc = []\n",
    "\n",
    "while ca<=1:\n",
    "    ca=ca+0.001\n",
    "    a = \n",
    "    b =     \n",
    "    c = \n",
    "    delta=\n",
    "    h1= \n",
    "    pH =\n",
    "    pHcal.append(pH)\n",
    "    conc.append(ca)\n",
    " \n",
    "plt.figure (figsize = (10,8))\n",
    "plt.plot(conc,pHcal,marker=\"+\")\n",
    "plt.xlabel('ca')\n",
    "plt.ylabel(\"pH\")\n",
    "plt.legend()\n",
    "plt.show()"
   ]
  },
  {
   "cell_type": "markdown",
   "metadata": {},
   "source": [
    "## C'est fini\n",
    "Il ne reste plus qu'à télécharger le fichier !"
   ]
  },
  {
   "cell_type": "markdown",
   "metadata": {},
   "source": [
    "<div class = 'alert alert-success'><h4>La commande suivante imprime toutes les lignes de code exécutées depuis la dernière initialisation de la page (Restart and Clear Output) <br><br>Cela permet de les copier dans Spyder ou dans un fichier .text par exemple.</h4></div>"
   ]
  },
  {
   "cell_type": "code",
   "execution_count": null,
   "metadata": {},
   "outputs": [],
   "source": [
    "%history"
   ]
  }
 ],
 "metadata": {
  "kernelspec": {
   "display_name": "Python 3",
   "language": "python",
   "name": "python3"
  },
  "language_info": {
   "codemirror_mode": {
    "name": "ipython",
    "version": 3
   },
   "file_extension": ".py",
   "mimetype": "text/x-python",
   "name": "python",
   "nbconvert_exporter": "python",
   "pygments_lexer": "ipython3",
   "version": "3.8.3"
  }
 },
 "nbformat": 4,
 "nbformat_minor": 4
}
