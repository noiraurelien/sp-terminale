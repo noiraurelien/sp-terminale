{
 "cells": [
  {
   "cell_type": "markdown",
   "metadata": {},
   "source": [
    "# Diagramme de distribution d'un couple acido-basique"
   ]
  },
  {
   "cell_type": "markdown",
   "metadata": {
    "raw_mimetype": "text/restructuredtext"
   },
   "source": [
    "<div class = 'alert alert-info'>\n",
    "Pour exécuter le code écrit dans un bloc : <b>MAJ-ENTREE </b><br>\n",
    "    Pour recommencer depuis le début : Menu <b>Kernel / Restart and clear output </b><br>\n",
    "    Toujours exécuter dans l'ordre le code  écrit dans les blocs précédés de la mention <b>Entrée  [  ]</b>\n",
    "</div>"
   ]
  },
  {
   "cell_type": "markdown",
   "metadata": {},
   "source": [
    "<div class = 'alert alert-warning'>Importation des modules de calcul et de tracé de courbe.\n",
    "    </div>"
   ]
  },
  {
   "cell_type": "code",
   "execution_count": null,
   "metadata": {},
   "outputs": [],
   "source": [
    "import matplotlib.pyplot as plt\n",
    "%matplotlib inline\n",
    "import numpy as np"
   ]
  },
  {
   "cell_type": "markdown",
   "metadata": {},
   "source": [
    "## 1. Données"
   ]
  },
  {
   "cell_type": "markdown",
   "metadata": {},
   "source": [
    "<div class = 'alert alert-warning'>Entrer une valeur de pKa.\n",
    "    </div>"
   ]
  },
  {
   "cell_type": "code",
   "execution_count": null,
   "metadata": {},
   "outputs": [],
   "source": [
    "pKa = "
   ]
  },
  {
   "cell_type": "markdown",
   "metadata": {},
   "source": [
    "## 2. Calcul des proportions de l'acide et de la base du couple"
   ]
  },
  {
   "cell_type": "markdown",
   "metadata": {},
   "source": [
    "<div class = 'alert alert-warning'>\n",
    "    La fonction suivante <code class = \\\"python\\\">diagramme( )</code> permet de calculer les pourcentages de l'espèce acide <code class = \"python\">P_acide</code> et de l'espèce basique <code class = \"python\">P_base</code> présentes à partir du paramètre <code class = \"python\">pKa</code>.\n",
    "    <br><br>\n",
    "   La méthode <code class = \"python\">np.arange(min ,max ,pas )</code> crée un tableau \"numpy\" contenant les nombres compris entre <code class = \"python\">min</code> (inclus) et <code class = \"python\">max</code> (exclus). Le troisième argument <code class = \"python\">pas</code> est l'écart entre deux nombres consécutifs. \n",
    "<hr>\n",
    "    1) (sur la copie) A partir de Ka, donner l'expression du rapport $R=\\frac{[A^{-}}{[AH]}\n",
    "    $$<br>[A-]f/[AH]f en fonction du pH et du pKa. <br>\n",
    "    2) (sur la copie) Montrer alors que le pourcentage p(AH) de forme acide AH et celui p(A-) de la forme basique A- s'expriment : <br>\n",
    "       $$\n",
    "    p(AH)=\\frac{100}{R+1}\n",
    "    $$<br>\n",
    "    $$\n",
    "    p(A^{-})=\\frac{100\\times R}{R+1}\n",
    "    $$\n",
    "   <hr>\n",
    "    3) Compléter alors ci-dessous les lignes de code permettant de : <br>\n",
    "    - créer un tableau de valeurs de pH comprise entre 0 et 14 avec un incrément de 0,5 <br>\n",
    "    - calculer <code class = \"python\">R</code><br>\n",
    "    - calculer le pourcentage d'acide <code class = \"python\">P_acide</code> ainsi que et le pourcentage de base <code class = \"python\">P_base</code>\n",
    "    </div>"
   ]
  },
  {
   "cell_type": "code",
   "execution_count": null,
   "metadata": {},
   "outputs": [],
   "source": [
    "def diagramme(pKa):\n",
    "    pH = np.arange(   ,   ,   )\n",
    "    R =      \n",
    "    P_acide = \n",
    "    P_base = \n",
    "              \n",
    "\n",
    "    #####   tracé du diagramme   ######################################################\n",
    "    \n",
    "    plt.figure (figsize = (10,8))\n",
    "    plt.plot(pH,P_acide,\"r+-\",label=\"acide\")\n",
    "    plt.plot(pH,P_base,\"b+-\",label=\"base\")\n",
    "    plt.xlabel(\"pH\")\n",
    "    plt.ylabel(\"%\")\n",
    "    plt.legend()\n",
    "    plt.grid()\n",
    "    plt.title (\"Diagramme de distribution d'un couple acide faible/base faible\")\n",
    "    plt.show\n",
    "    "
   ]
  },
  {
   "cell_type": "markdown",
   "metadata": {},
   "source": [
    "## 3. Tracé du diagramme de distribution."
   ]
  },
  {
   "cell_type": "markdown",
   "metadata": {},
   "source": [
    "<div class = 'alert alert-warning'>\n",
    "Lancer ci-dessous l'appel de la fonction <code class = \"python\">diagramme( )</code> avec passage de l'argument <code class = \"python\">pKa</code> défini plus haut.\n",
    "    </div>"
   ]
  },
  {
   "cell_type": "code",
   "execution_count": null,
   "metadata": {},
   "outputs": [],
   "source": [
    "diagramme (pKa)"
   ]
  },
  {
   "cell_type": "markdown",
   "metadata": {},
   "source": [
    "<div class = 'alert alert-warning'>\n",
    "1) Faire une copie d'écran du diagramme de distribution <br>\n",
    "2) (sur la copie) D'après le diagramme obtenu, quelle est l'espèce prédominante à pH = 4,2 ? <br>\n",
    "3) (sur la copie) Calculer le rapport [A-]/[AH] ainsi que le % d'acide AH à pH = 4,2. Est-ce cohérent avec le diagramme de distribution obtenu ?  <br>\n",
    "<Hr>    "
   ]
  },
  {
   "cell_type": "markdown",
   "metadata": {},
   "source": [
    "## C'est fini\n",
    "Il ne reste plus qu'à télécharger le fichier !"
   ]
  },
  {
   "cell_type": "markdown",
   "metadata": {},
   "source": [
    "<div class = 'alert alert-success'><h4>La commande suivante imprime toutes les lignes de code exécutées depuis la dernière initialisation de la page (Restart and Clear Output) <br><br>Cela permet de les copier dans Spyder ou dans un fichier .text par exemple.</h4></div>"
   ]
  },
  {
   "cell_type": "code",
   "execution_count": null,
   "metadata": {},
   "outputs": [],
   "source": [
    "%history"
   ]
  }
 ],
 "metadata": {
  "kernelspec": {
   "display_name": "Python 3 (ipykernel)",
   "language": "python",
   "name": "python3"
  },
  "language_info": {
   "codemirror_mode": {
    "name": "ipython",
    "version": 3
   },
   "file_extension": ".py",
   "mimetype": "text/x-python",
   "name": "python",
   "nbconvert_exporter": "python",
   "pygments_lexer": "ipython3",
   "version": "3.7.10"
  }
 },
 "nbformat": 4,
 "nbformat_minor": 4
}
