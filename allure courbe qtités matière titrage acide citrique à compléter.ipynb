{
 "cells": [
  {
   "cell_type": "markdown",
   "metadata": {},
   "source": [
    "# Allure des courbes d'évolution des quantités de matière au cours d'un titrage"
   ]
  },
  {
   "cell_type": "markdown",
   "metadata": {
    "raw_mimetype": "text/restructuredtext"
   },
   "source": [
    "<div class = 'alert alert-info'>\n",
    "Pour exécuter le code écrit dans un bloc : <b>MAJ-ENTREE </b><br>\n",
    "    Pour recommencer depuis le début : Menu <b>Kernel / Restart and clear output </b><br>\n",
    "    Toujours exécuter dans l'ordre le code  écrit dans les blocs précédés de la mention <b>Entrée  [  ]</b>\n",
    "</div>"
   ]
  },
  {
   "cell_type": "markdown",
   "metadata": {},
   "source": [
    "<div class = 'alert alert-warning'>Importation des modules de calcul et de tracé de courbe.\n",
    "    </div>"
   ]
  },
  {
   "cell_type": "code",
   "execution_count": null,
   "metadata": {},
   "outputs": [],
   "source": [
    "import matplotlib.pyplot as plt\n",
    "%matplotlib inline\n",
    "import numpy as np"
   ]
  },
  {
   "cell_type": "markdown",
   "metadata": {},
   "source": [
    "# 1. Données"
   ]
  },
  {
   "cell_type": "markdown",
   "metadata": {},
   "source": [
    "<div class = 'alert alert-warning'>\n",
    "    On étudie le titrage de l'acide citrique, triacide noté $AH_3$ pour simplifier, par la soude.<br><br>\n",
    "L'équation de la réaction support de titrage est : \n",
    "    $$\n",
    "    AH_3 + 3 \\: OH^{-}\\longrightarrow A^{3-} + 3 \\: H_2O\n",
    "    $$<br>\n",
    "On note  $c_{titré}$  de concentration molaire apportée en acide citrique en mol/L <br>\n",
    "On note  $c_{titrant}$ de concentration molaire apportée de la soude en mol//L <br>\n",
    "On note $V_{titré}$ le volume de la prise d'essai (en mL)\n",
    "    </div>"
   ]
  },
  {
   "cell_type": "code",
   "execution_count": null,
   "metadata": {},
   "outputs": [],
   "source": [
    "c_titre = 0.1                   # en mol/L\n",
    "c_titrant = 0.1                 # en mol/L\n",
    "V_titre = 5.0                  # en mL"
   ]
  },
  {
   "cell_type": "markdown",
   "metadata": {},
   "source": [
    "# 2. Calcul des quantités de matières des espèces."
   ]
  },
  {
   "cell_type": "markdown",
   "metadata": {},
   "source": [
    "<div class = 'alert alert-warning'>\n",
    "a) Ecrire la relation à l'équivalence vérifiée par la quantités de matière de réactif titrant ajouté et la quantité initiale de réactif titré. <br>\n",
    "    b) En déduire l'expression du volume équivalent $V_E$ en fonction de $c_{titré}$  ,  $c_{titrant}$ et $V_{titré}$<br><hr>\n",
    "    Compléter le calcul ci-dessous pour avoir $V_E$ en mL. <br> Après avoir fait MAJ-ENTREE, la valeur de $V_E$ s'affiche.\n",
    "    </div>\n",
    "   "
   ]
  },
  {
   "cell_type": "code",
   "execution_count": null,
   "metadata": {
    "scrolled": false
   },
   "outputs": [],
   "source": [
    "### calcul du volume équivalent en mL\n",
    "\n",
    "V_E = \n",
    "\n",
    "print(\"%.1f\"%V_E)"
   ]
  },
  {
   "cell_type": "markdown",
   "metadata": {},
   "source": [
    "## 2.1 Avant l'équivalence (V<$V_E$)."
   ]
  },
  {
   "cell_type": "markdown",
   "metadata": {},
   "source": [
    "<div class = 'alert alert-warning'>\n",
    "    a) Exprimer la quantité de matière initiale de $AH_3$ dans la prise d'essai avant le titrage puis montrer que la quantité de matière de $AH_3$ dans le bécher pour un volume $V_{titrant}$ de solution titrante ajoutée s'exprime : <br>\n",
    "       $$\n",
    "    n(AH_3)_f=c_{titre}.V_{titre}- \\frac {c_{titrant}.V_{titrant}}{3}\n",
    "    $$<br>\n",
    "    <hr>\n",
    "    b) Que dire du nombre de mol de $OH^{-}$  avant l'équivalence ? Justifier.<br>\n",
    "    c) Exprimer le nombre de mol de $A^{3-}$ dans le bécher pour un volume $V_{titrant}$ de solution titrante ajoutée.<br>\n",
    "    d) Exprimer le nombre de mol de $Na^{+}$ dans le bécher pour un volume $V_{titrant}$ de solution titrante ajoutée.<br>\n",
    "    </div>"
   ]
  },
  {
   "cell_type": "markdown",
   "metadata": {},
   "source": [
    "##  2.2 Après l'équivalence (V > $V_E$)"
   ]
  },
  {
   "cell_type": "markdown",
   "metadata": {},
   "source": [
    "<div class = 'alert alert-warning'>\n",
    "    a) Montrer que la quantité de matière de $OH^-$ dans le bécher pour un volume $V_{titrant}$ de solution titrante ajoutée s'exprime : <br>\n",
    "       $$\n",
    "    n(OH^-)_f=c_{titrant}.(V_{titrant}-V_{E})\n",
    "    $$<br>\n",
    "    b) Que dire du nombre de mol de $AH_3$  après l'équivalence ? Justifier<br>\n",
    "    c) Exprimer le nombre de mol de $A^{3-}$ dans le bécher.<br>\n",
    "    d) Exprimer le nombre de mol de $Na^{+}$ dans le bécher pour un volume $V_{titrant}$ de solution titrante ajoutée.<br>\n",
    "    </div>"
   ]
  },
  {
   "cell_type": "markdown",
   "metadata": {},
   "source": [
    "# 3. Tracé des courbes d'évolution."
   ]
  },
  {
   "cell_type": "markdown",
   "metadata": {},
   "source": [
    "<div class = 'alert alert-warning'>\n",
    "Compléter les lignes manquantes dans le code ci-dessous (8 lignes à compléter).<br>\n",
    "    </div>"
   ]
  },
  {
   "cell_type": "code",
   "execution_count": null,
   "metadata": {},
   "outputs": [],
   "source": [
    "# volume de solution titrante initialement dans le bécher en mL\n",
    "V_titrant=0\n",
    "\n",
    "#création des listes pour chaque espèces et pour le volume de solution titrante\n",
    "n_AH3=[]\n",
    "n_OH=[]\n",
    "n_A3=[]\n",
    "n_Na=[]\n",
    "V=[]\n",
    "\n",
    "#Bilan de matière avant l'équivalence\n",
    "while V_titrant<=V_E:                                      # tant qu'on est \"avant l'équivalence\"\n",
    "    nbre_AH3=                                              # calcul de la quantité de matière de AH3\n",
    "    nbre_OH=\n",
    "    nbre_A3=                                                 # calcul de la quantité de matière de A3-\n",
    "    nbre_Na=                                                 # calcul de la quantité de matière de Na+\n",
    "    n_AH3.append(nbre_AH3)                                      # ajout de la valeur calculée dans la liste de AH3\n",
    "    n_OH.append(nbre_OH)                                      # ajout de la valeur calculée dans la liste de OH-\n",
    "    n_A3.append(nbre_A3)                                      # ajout de la valeur calculée dans la liste de A3-\n",
    "    n_Na.append(nbre_Na)                                      # ajout de la valeur calculée dans la liste de Na+\n",
    "    V.append(V_titrant)                                  # ajout de la valeur du volume de solution titrante dans la liste\n",
    "    V_titrant=V_titrant+0.5                             # on ajoute 0,5 mL à la valeur précédente du volume de sol. titrante\n",
    "\n",
    "#Bilan de matière après l'équivalence\n",
    "while V_titrant<=25:\n",
    "    nbre_AH3=\n",
    "    nbre_OH=\n",
    "    nbre_A3=\n",
    "    nbre_Na=\n",
    "    n_AH3.append(nbre_AH3)\n",
    "    n_OH.append(nbre_OH)\n",
    "    n_A3.append(nbre_A3)\n",
    "    n_Na.append(nbre_Na)\n",
    "    V.append(V_titrant)\n",
    "    V_titrant=V_titrant+0.5\n",
    "\n",
    "plt.figure (figsize = (10,8))\n",
    "plt.plot(V,n_AH3,marker=\"+\",label=\"$AH_3$\")\n",
    "plt.plot(V,n_OH,marker=\"x\",label=\"$OH^{-}$\")\n",
    "plt.plot(V,n_A3,marker=\"o\",label=\"$A^{3-}$\")\n",
    "plt.plot(V,n_Na,marker=\"v\",label=\"$Na^{+}$\")\n",
    "plt.xlabel('Volume de solution titrante en mL')\n",
    "plt.ylabel(\"Quantité de matière de l'espèce en mmol\")\n",
    "plt.legend()\n",
    "plt.show()"
   ]
  },
  {
   "cell_type": "markdown",
   "metadata": {},
   "source": [
    "<div class = 'alert alert-warning'>\n",
    "Imprimer la courbe ci-dessus\n",
    "    </div>"
   ]
  },
  {
   "cell_type": "markdown",
   "metadata": {},
   "source": [
    "## C'est fini\n",
    "Il ne reste plus qu'à télécharger le fichier !"
   ]
  },
  {
   "cell_type": "markdown",
   "metadata": {},
   "source": [
    "<div class = 'alert alert-success'><h4>La commande suivante imprime toutes les lignes de code exécutées depuis la dernière initialisation de la page (Restart and Clear Output) <br><br>Cela permet de les copier dans Spyder ou dans un fichier .text par exemple.</h4></div>"
   ]
  },
  {
   "cell_type": "code",
   "execution_count": null,
   "metadata": {},
   "outputs": [],
   "source": [
    "%history"
   ]
  }
 ],
 "metadata": {
  "kernelspec": {
   "display_name": "Python 3",
   "language": "python",
   "name": "python3"
  },
  "language_info": {
   "codemirror_mode": {
    "name": "ipython",
    "version": 3
   },
   "file_extension": ".py",
   "mimetype": "text/x-python",
   "name": "python",
   "nbconvert_exporter": "python",
   "pygments_lexer": "ipython3",
   "version": "3.7.8"
  }
 },
 "nbformat": 4,
 "nbformat_minor": 4
}
