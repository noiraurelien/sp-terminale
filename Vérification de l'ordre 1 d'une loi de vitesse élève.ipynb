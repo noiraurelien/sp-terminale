{
 "cells": [
  {
   "cell_type": "markdown",
   "metadata": {},
   "source": [
    "# Vérification de l'ordre 1 d'une loi de vitesse"
   ]
  },
  {
   "cell_type": "markdown",
   "metadata": {
    "raw_mimetype": "text/restructuredtext"
   },
   "source": [
    "<div class = 'alert alert-info'>\n",
    "Pour exécuter le code écrit dans un bloc : <b>MAJ-ENTREE </b><br>\n",
    "    Pour recommencer depuis le début : Menu <b>Kernel / Restart and clear output </b><br>\n",
    "    Toujours exécuter dans l'ordre le code  écrit dans les blocs précédés de la mention <b>Entrée  [  ]</b>\n",
    "</div>"
   ]
  },
  {
   "cell_type": "markdown",
   "metadata": {},
   "source": [
    "<div class = 'alert alert-warning'>Importation des modules de calcul et de tracé de courbe.\n",
    "    </div>"
   ]
  },
  {
   "cell_type": "code",
   "execution_count": null,
   "metadata": {},
   "outputs": [],
   "source": [
    "import matplotlib.pyplot as plt\n",
    "%matplotlib inline\n",
    "import numpy as np\n",
    "import scipy.stats as stats"
   ]
  },
  {
   "cell_type": "markdown",
   "metadata": {},
   "source": [
    "# 1. Données et tracé de la courbe cinétique"
   ]
  },
  {
   "cell_type": "markdown",
   "metadata": {},
   "source": [
    "| Temps en s  | Concentration C en saccharose en mol/L   | \n",
    "| :--------------- |:---------------:| \n",
    "| 0   |   5.00     | \n",
    "| 50  | 4.52       |   \n",
    "| 100  | 4.08       | \n",
    "| 150   |   3.68    | \n",
    "| 200  | 3.33              |   \n",
    "| 250  | 3.00       | \n",
    "| 300  |  2.71       |   \n",
    "| 350  |2.45      | \n",
    "| 400   |  2.21   | \n",
    "| 450  | 2.00             |   \n",
    "| 500  | 1.81      | "
   ]
  },
  {
   "cell_type": "markdown",
   "metadata": {},
   "source": [
    "<div class = 'alert alert-warning'>\n",
    "Compléter les lignes de codes ci-dessous.    </div>"
   ]
  },
  {
   "cell_type": "code",
   "execution_count": null,
   "metadata": {},
   "outputs": [],
   "source": [
    "t = np.array([  ])  # A COMPLETER tableau numpy des temps en s\n",
    "c = np.array([  ])  # A COMPLETER tableau numpy des concentrations C en saccharose en mol/L \n",
    "plt.figure(figsize=(12,8))\n",
    "plt.plot(   ,   ,\"o\",markersize=5)   # A COMPLETER création du graphique C = f(t) \n",
    "plt.xlim(0,600)\n",
    "plt.ylim(0,5)\n",
    "plt.xlabel(\"      \") # A COMPLETER \n",
    "plt.ylabel(\"     \") # A COMPLETER \n",
    "plt.grid()  # crée une grille sur le graphique #\n",
    "plt.show ()  # fait afficher le graphe #"
   ]
  },
  {
   "cell_type": "markdown",
   "metadata": {},
   "source": [
    "# 2. Calculs des vitesses volumiques de disparition."
   ]
  },
  {
   "cell_type": "markdown",
   "metadata": {},
   "source": [
    "<div class = 'alert alert-warning'>\n",
    "Compléter les lignes de code ci-dessous\n",
    "    </div>"
   ]
  },
  {
   "cell_type": "code",
   "execution_count": null,
   "metadata": {},
   "outputs": [],
   "source": [
    "n = len(t)                  # n est le nombre d'éléments de la liste t\n",
    "v = np.zeros(n-1)           # création de tableau \"numpy\" pour les vitesses et contenant ne contenant initialement que des zéros et de taille n-1\n",
    "for i in range (    ,     ):       # A COMPLETER boucle for , doit contenir la valeur de départ de i et sa dernière valeur\n",
    "    v[i] =                            # A COMPLETER calcul de la valeur approchée de la vitesse volumique de disapraition du saccharose"
   ]
  },
  {
   "cell_type": "markdown",
   "metadata": {},
   "source": [
    "# 3. Méthode différentielle pour vérifier l'ordre 1."
   ]
  },
  {
   "cell_type": "markdown",
   "metadata": {},
   "source": [
    "<div class = 'alert alert-warning'>\n",
    "Analyser le programme ci-dessous puis l'éxécuter. Que peut-on en conclure ? Justifier.\n",
    "    </div>"
   ]
  },
  {
   "cell_type": "code",
   "execution_count": null,
   "metadata": {},
   "outputs": [],
   "source": [
    "plt.xlim(0,5)\n",
    "plt.ylim(0,0.010)\n",
    "plt.xlabel(\"concentration en saccharose (mol/L)\")\n",
    "plt.ylabel(\"vitesse volumique de disparition (mol/L/s)\")\n",
    "indexe = [10]\n",
    "modifiedc= np.delete(c, indexe)  # suppression de la dernière valeur (10ème) du tableau des concentrations\n",
    "plt.plot (modifiedc, v, 'ro:') # trace la courbe de v = f(t) avec les valeurs expérimentales\n",
    "(a, b, _, _, _ ) = stats.linregress (modifiedc, v)  # Calcul des paramètres a et b avec modélisation affine type \"y = a.x + b\"\n",
    "v_modele = a*modifiedc    # Calcul des valeurs de v en utilisant le modèle\n",
    "plt.plot (modifiedc, v_modele , _) # trace la courbe de v = f(t) modélisée\n",
    "plt.grid()\n",
    "plt.show()"
   ]
  },
  {
   "cell_type": "markdown",
   "metadata": {},
   "source": [
    "## C'est fini\n",
    "Il ne reste plus qu'à télécharger le fichier !"
   ]
  },
  {
   "cell_type": "markdown",
   "metadata": {},
   "source": [
    "<div class = 'alert alert-success'><h4>La commande suivante imprime toutes les lignes de code exécutées depuis la dernière initialisation de la page (Restart and Clear Output) <br><br>Cela permet de les copier dans Spyder ou dans un fichier .text par exemple.</h4></div>"
   ]
  },
  {
   "cell_type": "code",
   "execution_count": null,
   "metadata": {},
   "outputs": [],
   "source": [
    "%history"
   ]
  }
 ],
 "metadata": {
  "kernelspec": {
   "display_name": "Python 3",
   "language": "python",
   "name": "python3"
  },
  "language_info": {
   "codemirror_mode": {
    "name": "ipython",
    "version": 3
   },
   "file_extension": ".py",
   "mimetype": "text/x-python",
   "name": "python",
   "nbconvert_exporter": "python",
   "pygments_lexer": "ipython3",
   "version": "3.8.3"
  }
 },
 "nbformat": 4,
 "nbformat_minor": 4
}
