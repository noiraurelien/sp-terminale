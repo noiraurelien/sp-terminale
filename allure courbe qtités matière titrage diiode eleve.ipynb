{
 "cells": [
  {
   "cell_type": "markdown",
   "metadata": {},
   "source": [
    "# Prévision de l'empreinte carbone d'un combustible carboné lors de sa combustion."
   ]
  },
  {
   "cell_type": "markdown",
   "metadata": {
    "raw_mimetype": "text/restructuredtext"
   },
   "source": [
    "<div class = 'alert alert-info'>\n",
    "Pour exécuter le code écrit dans un bloc : <b>MAJ-ENTREE </b><br>\n",
    "    Pour recommencer depuis le début : Menu <b>Kernel / Restart and clear output </b><br>\n",
    "    Toujours exécuter dans l'ordre le code  écrit dans les blocs précédés de la mention <b>Entrée  [  ]</b>\n",
    "</div>"
   ]
  },
  {
   "cell_type": "markdown",
   "metadata": {},
   "source": [
    "<div class = 'alert alert-warning'>Importation des modules de calcul et de tracé de courbe.\n",
    "    </div>"
   ]
  },
  {
   "cell_type": "code",
   "execution_count": null,
   "metadata": {},
   "outputs": [],
   "source": [
    "import matplotlib.pyplot as plt\n",
    "%matplotlib inline\n",
    "import numpy as np"
   ]
  },
  {
   "cell_type": "code",
   "execution_count": null,
   "metadata": {},
   "outputs": [],
   "source": [
    "c_titrant = 0.1                  # en mol/L \n",
    "c_titre = 0.05                    # en mol/L \n",
    "V_titre = 10                     # en mL \n",
    "V_E =          # en mL    # A COMPLETER avec votre volume équivalent\n",
    "\n",
    "print(V_E)### calcul du volume équivalent en mL"
   ]
  },
  {
   "cell_type": "code",
   "execution_count": null,
   "metadata": {},
   "outputs": [],
   "source": [
    "# volume de solution titrante initialement dans le bécher en mL\n",
    "V_titrant=0\n",
    "\n",
    "#création des listes pour chaque espèces et pour le volume de solution titrante\n",
    "n_I2=[]\n",
    "n_I=[]\n",
    "n_S2O3=[]\n",
    "n_S4O6=[]\n",
    "n_Na=[]\n",
    "V=[]\n",
    "\n",
    "#Bilan de matière en mmol avant l'équivalence\n",
    "while V_titrant<=V_E:          # tant qu'on est \"avant l'équivalence\"\n",
    "    nbre_I2 =         # A COMPLETER  calcul de la quantité de matière de I2\n",
    "    nbre_I =                               # A COMPLETER  calcul de la quantité de matière de I-\n",
    "    nbre_S2O3 =                                            # A COMPLETER calcul de la quantité de matière de S2O32-\n",
    "    nbre_S4O6 =                        # A COMPLETER calcul de la quantité de matière de S4O62-\n",
    "    nbre_Na =                            # A COMPLETER  calcul de la quantité de matière de Na+\n",
    "    \n",
    "    n_I2.append(nbre_I2)                                       # ajout de la valeur calculée dans la liste de I2\n",
    "    n_I.append(nbre_I)                                         # ajout de la valeur calculée dans la liste de I-\n",
    "    n_S2O3.append(nbre_S2O3)                                   # ajout de la valeur calculée dans la liste de S2O32-\n",
    "    n_S4O6.append(nbre_S4O6)                                   # ajout de la valeur calculée dans la liste de S4O62-\n",
    "    n_Na.append(nbre_Na)                                       # ajout de la valeur calculée dans la liste de Na+\n",
    "    V.append(V_titrant)                                        # ajout de la valeur du volume de solution titrante dans la liste\n",
    "    \n",
    "    V_titrant =                                            # A COMPLETER  on ajoute 0,5 mL à la valeur précédente du volume de sol. titrante\n",
    "\n",
    "#Bilan de matière en mmol après l'équivalence\n",
    "while V_titrant<=     :                                # A COMPLETER\n",
    "    nbre_I2=                                               # A COMPLETER  calcul de la quantité de matière de I2\n",
    "    nbre_I =                             # A COMPLETER  calcul de la quantité de matière de I-\n",
    "    nbre_S2O3 =                # A COMPLETER calcul de la quantité de matière de S2O32-\n",
    "    nbre_S4O6 =                            # A COMPLETER calcul de la quantité de matière de S4O62-\n",
    "    nbre_Na =                         # A COMPLETER  calcul de la quantité de matière de Na+\n",
    "    n_I2.append(nbre_I2)                                        # ajout de la valeur calculée dans la liste de I2\n",
    "    n_I.append(nbre_I)                                          # ajout de la valeur calculée dans la liste de I-\n",
    "    n_S2O3.append(nbre_S2O3)                                    # ajout de la valeur calculée dans la liste de S2O32-\n",
    "    n_S4O6.append(nbre_S4O6)                                    # ajout de la valeur calculée dans la liste de S4O62-\n",
    "    n_Na.append(nbre_Na)                                        # ajout de la valeur calculée dans la liste de Na+\n",
    "    V.append(V_titrant)                                         # ajout de la valeur du volume de solution titrante dans la liste\n",
    "    \n",
    "    V_titrant =                                            # A COMPLETER  on ajoute 0,5 mL à la valeur précédente du volume de sol. titrante\n",
    "\n",
    "plt.figure (figsize = (10,8))\n",
    "plt.plot(V,n_I2,marker=\"+\",label=\"$I_2$\")\n",
    "plt.plot(V,n_I,marker=\"x\",label=\"$I^{-}$\")\n",
    "plt.plot(V,n_S2O3,marker=\"o\",label=\"$S2O3^{2-}$\")\n",
    "plt.plot(V,n_S4O6,marker=\"o\",label=\"$S4O6^{2-}$\")\n",
    "plt.plot(V,n_Na,marker=\"v\",label=\"$Na^{+}$\")\n",
    "plt.xlabel('Volume de solution titrante en mL')\n",
    "plt.ylabel(\"Quantité de matière de l'espèce en mmol\")\n",
    "plt.legend()\n",
    "plt.show()"
   ]
  },
  {
   "cell_type": "markdown",
   "metadata": {},
   "source": [
    "<div class = 'alert alert-warning'>\n",
    "Imprimer la courbe ci-dessus\n",
    "    </div>"
   ]
  },
  {
   "cell_type": "markdown",
   "metadata": {},
   "source": [
    "## C'est fini\n",
    "Il ne reste plus qu'à télécharger le fichier !"
   ]
  },
  {
   "cell_type": "markdown",
   "metadata": {},
   "source": [
    "<div class = 'alert alert-success'><h4>La commande suivante imprime toutes les lignes de code exécutées depuis la dernière initialisation de la page (Restart and Clear Output) <br><br>Cela permet de les copier dans Spyder ou dans un fichier .text par exemple.</h4></div>"
   ]
  },
  {
   "cell_type": "code",
   "execution_count": null,
   "metadata": {},
   "outputs": [],
   "source": [
    "%history"
   ]
  }
 ],
 "metadata": {
  "kernelspec": {
   "display_name": "Python 3",
   "language": "python",
   "name": "python3"
  },
  "language_info": {
   "codemirror_mode": {
    "name": "ipython",
    "version": 3
   },
   "file_extension": ".py",
   "mimetype": "text/x-python",
   "name": "python",
   "nbconvert_exporter": "python",
   "pygments_lexer": "ipython3",
   "version": "3.8.3"
  }
 },
 "nbformat": 4,
 "nbformat_minor": 4
}
