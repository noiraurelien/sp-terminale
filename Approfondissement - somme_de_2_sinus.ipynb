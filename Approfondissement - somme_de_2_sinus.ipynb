{
 "cells": [
  {
   "cell_type": "markdown",
   "metadata": {},
   "source": [
    "# Somme de 2 sinus de même frequence dont on fait varier la phase"
   ]
  },
  {
   "cell_type": "code",
   "execution_count": null,
   "metadata": {},
   "outputs": [],
   "source": [
    "# import de la bibliothèque numpy \n",
    "import numpy as np\n",
    "# import de la bibliothèque matplotlib \n",
    "import matplotlib.pyplot as plt"
   ]
  },
  {
   "cell_type": "code",
   "execution_count": null,
   "metadata": {},
   "outputs": [],
   "source": [
    "# Définition des signaux Y1, Y2 et Y3\n",
    "\n",
    "f = 200 # fréquence des signaux (200Hz)\n",
    "\n",
    "temps_total = 1 # en seconde\n",
    "dt = 1*10**(-5)   # pas de temps en seconde\n",
    "nb_points = int(........)  # A COMP renvoie le nombre entier le plus proche du résultat du calcul donnant le nbre de points\n",
    "temps = np.linspace(0,nb_points,nb_points)*....  # A COMP création d'un tableau de valeurs des dates avec comme arguments (1ère valeur, dernière valeur, nombre de valeur)\n",
    "phi = np.pi/4 # # valeur du déphasage fixée à pi /4\n",
    "\n",
    "Y1 = np.sin(2*np.pi*f*temps)\n",
    "Y2 = np.sin(...............)# A COMP création d'une 2ème sinusoide de même fréquence mais déphasée d'un angle phi de Y1 \n",
    "\n",
    "Y3 =                   # A COMP création de la sinusoide résultant du principe de superposition "
   ]
  },
  {
   "cell_type": "markdown",
   "metadata": {},
   "source": [
    "# Tracé des 3 sinus sur le même graphe"
   ]
  },
  {
   "cell_type": "code",
   "execution_count": null,
   "metadata": {},
   "outputs": [],
   "source": [
    "# Tracé des signaux \n",
    "fig = plt.figure(figsize=(9,6)) # Taille de la figure\n",
    "\n",
    "plt.plot(temps,Y1,\"b-\", label=\"Y1 = sin(2$\\pi$f)\")\n",
    "plt.plot(temps,Y2,\"g-\", label=\"Y2 = sin(2$\\pi$f+$\\phi$)\")\n",
    "plt.plot(temps,Y3,\"m-\", label=\"Y3 = Y1+Y2\")\n",
    "\n",
    "# Affichage\n",
    "plt.legend(loc = 'upper right') \n",
    "plt.title(\"Y3 = Y1+Y2\")\n",
    "plt.xlabel(\"temps (s)\")  \n",
    "plt.ylabel(\"Grandeur perturbée\")\n",
    "plt.text(0.0175,1,\"$\\phi$ = \" + str(round(phi,2))+' rad',size=12,  \n",
    "         # On crée une boite aux coins ronds, au bord noir et remplie en cyan \n",
    "         bbox=dict(boxstyle=\"round\",ec=(\"k\"),fc=(\"c\"))) \n",
    "\n",
    "plt.xlim(..., ...) # A COMP renvoie les valeurs min et max de l'axe des abscisses \n",
    "plt.ylim(...., ....)  # A COMP renvoie les valeurs min et max de l'axe des ordonnées \n",
    "plt.ticklabel_format(style='scientific', axis='x', scilimits=(0,0))\n",
    "plt.grid(True)\n",
    "\n",
    "# Sauvegarde de la figure\n",
    "plt.savefig('somme_sinus_'+chr(934)+'='+str(round(phi,2))+'.png')  "
   ]
  },
  {
   "cell_type": "markdown",
   "metadata": {},
   "source": [
    "# Lecture audio des signaux Y1, Y2 et de leur somme Y3"
   ]
  },
  {
   "cell_type": "code",
   "execution_count": null,
   "metadata": {},
   "outputs": [],
   "source": [
    "# Install a pip package in the current Jupyter kernel\n",
    "import sys\n",
    "!{sys.executable} -m pip install pygame"
   ]
  },
  {
   "cell_type": "code",
   "execution_count": null,
   "metadata": {},
   "outputs": [],
   "source": [
    "clear"
   ]
  },
  {
   "cell_type": "code",
   "execution_count": null,
   "metadata": {},
   "outputs": [],
   "source": [
    "# import de la bibliothèques pygame et du module wave pour gérer les sons \n",
    "import pygame\n",
    "import wave"
   ]
  },
  {
   "cell_type": "code",
   "execution_count": null,
   "metadata": {},
   "outputs": [],
   "source": [
    "print('Le nombre d échantillons pour un signal de',temps_total,'s est', 44100*temps_total)\n",
    "print('Le nombre d échantillons dans le vecteur Y1 est de',len(Y1))     "
   ]
  },
  {
   "cell_type": "code",
   "execution_count": null,
   "metadata": {},
   "outputs": [],
   "source": [
    "# Création des fichiers \"son\" \n",
    "\n",
    "# Pour chaque signal Y1, Y2 et Y3 on définit un fichier son différent sous la forme d'un wave\n",
    "NomSon1 = 'sonY1.wav'\n",
    "Son1 = wave.open(NomSon1,'wb') # Son1 correspond à Y1\n",
    "NomSon2 = 'sonY2.wav'\n",
    "Son2 = wave.open(NomSon2,'wb') # Son2 correspond à Y2\n",
    "NomSon3 = 'sonY3_'+chr(934)+'='+str(round(phi,2))+'.wav'\n",
    "Son3 = wave.open(NomSon3,'wb') # Son3 correspond à Y3\n",
    "\n",
    "# Définition des paramètres audio \n",
    "nChannels = 1  # mono\n",
    "nOctet = 1  # taille d'un échantillon : 1 octet = 8 bits\n",
    "frameRate = fech   # fréquence d'échantillonnage\n",
    "nFrames = nb_points  # nombre total d'échantillons dans les fichiers son\n",
    "\n",
    "parametres = (nChannels,nOctet,frameRate,nFrames,'NONE','not compressed')\n",
    "\n",
    "# On attribue les paramètres à chaque fichier son\n",
    "Son1.setparams(parametres)\n",
    "Son2.setparams(parametres)\n",
    "Son3.setparams(parametres)\n",
    "\n",
    "amplitude = 64\n",
    "\n",
    "for i in range (0,nb_points,1) :\n",
    "    val1 = wave.struct.pack('B',int(128.0 + Y1[i] * amplitude))\n",
    "    val2 = wave.struct.pack('B',int(128.0 + Y2[i] * amplitude))\n",
    "    val3 = wave.struct.pack('B',int(128.0 + Y3[i] * amplitude))\n",
    "    \n",
    "    # écriture des fichiers sons\n",
    "    Son1.writeframes(val1) \n",
    "    Son2.writeframes(val2)\n",
    "    Son3.writeframes(val3)\n",
    "    \n",
    "Son1.close()\n",
    "Son2.close()\n",
    "Son3.close()"
   ]
  },
  {
   "cell_type": "code",
   "execution_count": null,
   "metadata": {},
   "outputs": [],
   "source": [
    "pygame.mixer.init(frequency=frameRate)\n",
    "pygame.mixer.Sound('sonY1.wav').play()"
   ]
  },
  {
   "cell_type": "code",
   "execution_count": null,
   "metadata": {},
   "outputs": [],
   "source": [
    "pygame.mixer.init(frequency=frameRate)\n",
    "pygame.mixer.Sound('sonY2.wav').play()"
   ]
  },
  {
   "cell_type": "code",
   "execution_count": null,
   "metadata": {},
   "outputs": [],
   "source": [
    "pygame.mixer.init(frequency=frameRate)\n",
    "pygame.mixer.Sound('sonY3_'+chr(934)+'='+str(round(phi,2))+'.wav').play()"
   ]
  }
 ],
 "metadata": {
  "kernelspec": {
   "display_name": "Python 3",
   "language": "python",
   "name": "python3"
  },
  "language_info": {
   "codemirror_mode": {
    "name": "ipython",
    "version": 3
   },
   "file_extension": ".py",
   "mimetype": "text/x-python",
   "name": "python",
   "nbconvert_exporter": "python",
   "pygments_lexer": "ipython3",
   "version": "3.8.3"
  }
 },
 "nbformat": 4,
 "nbformat_minor": 2
}
